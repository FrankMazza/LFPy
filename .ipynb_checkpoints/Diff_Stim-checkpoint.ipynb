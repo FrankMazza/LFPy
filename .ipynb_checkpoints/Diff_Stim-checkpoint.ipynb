{
 "cells": [
  {
   "cell_type": "code",
   "execution_count": 1,
   "metadata": {},
   "outputs": [],
   "source": [
    "import LFPy\n",
    "import os\n",
    "from os.path import join\n",
    "import sys\n",
    "if sys.version < '3':\n",
    "    from urllib2 import urlopen\n",
    "else:    \n",
    "    from urllib.request import urlopen\n",
    "import zipfile\n",
    "import ssl\n",
    "from warnings import warn\n",
    "import numpy as np\n",
    "import scipy.stats\n",
    "import neuron\n",
    "import matplotlib.pyplot as plt\n",
    "plt.rcParams.update({'font.size' : 12,\n",
    "                     'figure.facecolor' : '1',\n",
    "                     'figure.subplot.wspace' : 0.5,\n",
    "                     'figure.subplot.hspace' : 0.5})\n",
    "\n",
    "#seed for random generation\n",
    "np.random.seed(1234)"
   ]
  },
  {
   "cell_type": "markdown",
   "metadata": {},
   "source": [
    "Functions"
   ]
  },
  {
   "cell_type": "code",
   "execution_count": 2,
   "metadata": {},
   "outputs": [],
   "source": [
    "if not os.path.isfile(join('cells', 'cells', 'j4a.hoc')):\n",
    "    # get the model files:\n",
    "    u = urlopen('http://senselab.med.yale.edu/ModelDB/eavBinDown.asp?o=2488&a=23&mime=application/zip',\n",
    "                context=ssl._create_unverified_context())\n",
    "    localFile = open('patdemo.zip', 'wb')\n",
    "    localFile.write(u.read())\n",
    "    localFile.close()\n",
    "    # unzip:\n",
    "    myzip = zipfile.ZipFile('patdemo.zip', 'r')\n",
    "    myzip.extractall('.')\n",
    "    myzip.close()\n",
    "\n",
    "# compile mod files every time, because of incompatibility with Hay2011 files:\n",
    "if \"win32\" in sys.platform:\n",
    "    pth = \"cells\"\n",
    "    warn(\"no autompile of NMODL (.mod) files on Windows. \" \n",
    "         + \"Run mknrndll from NEURON bash in the folder cells and rerun example script\")\n",
    "    if not pth in neuron.nrn_dll_loaded:\n",
    "        neuron.h.nrn_load_dll(pth+\"/nrnmech.dll\")\n",
    "    neuron.nrn_dll_loaded.append(pth)\n",
    "else:\n",
    "    os.system('''\n",
    "              cd cells\n",
    "              nrnivmodl\n",
    "              ''')\n",
    "    neuron.load_mechanisms('cells')"
   ]
  },
  {
   "cell_type": "markdown",
   "metadata": {},
   "source": [
    "Parameters"
   ]
  },
  {
   "cell_type": "code",
   "execution_count": 3,
   "metadata": {},
   "outputs": [],
   "source": [
    "# Define cell parameters used as input to cell-class\n",
    "cellParameters = {\n",
    "    'morphology' : 'morphologies/L5_Mainen96_wAxon_LFPy.hoc',\n",
    "    'cm' : 1.0,                 # membrane capacitance\n",
    "    'Ra' : 150,                 # axial resistance\n",
    "    'v_init' : -65,             # initial crossmembrane potential\n",
    "    'passive' : True,           # switch on passive mechs\n",
    "    'passive_parameters' : {'g_pas' : 1./30000, 'e_pas' : -65}, # passive params    \n",
    "    'nsegs_method' : 'lambda_f',# method for setting number of segments,\n",
    "    'lambda_f' : 100,           # segments are isopotential at this frequency\n",
    "    'dt' : 2**-4,               # dt of LFP and NEURON simulation.\n",
    "    'tstart' : -100,          #start time, recorders start at t=0\n",
    "    'tstop' : 200,            #stop time of simulation\n",
    "    #'custom_code'  : ['active_declarations_example3.hoc'], # will run this file\n",
    "}\n",
    "\n",
    "# Synaptic parameters taken from Hendrickson et al 2011\n",
    "# Excitatory synapse parameters:\n",
    "synapseParameters_AMPA = {\n",
    "    'e' : 0,                    #reversal potential\n",
    "    'syntype' : 'Exp2Syn',      #conductance based exponential synapse\n",
    "    'tau1' : 1.,                #Time constant, rise\n",
    "    'tau2' : 3.,                #Time constant, decay\n",
    "    'weight' : 0.005,           #Synaptic weight\n",
    "    'record_current' : True,    #record synaptic currents\n",
    "}\n",
    "# Excitatory synapse parameters\n",
    "synapseParameters_NMDA = {         \n",
    "    'e' : 0,\n",
    "    'syntype' : 'Exp2Syn',\n",
    "    'tau1' : 10.,\n",
    "    'tau2' : 30.,\n",
    "    'weight' : 0.005,\n",
    "    'record_current' : True,\n",
    "}\n",
    "# Inhibitory synapse parameters\n",
    "synapseParameters_GABA_A = {         \n",
    "    'e' : -80,\n",
    "    'syntype' : 'Exp2Syn',\n",
    "    'tau1' : 1.,\n",
    "    'tau2' : 12.,\n",
    "    'weight' : 0.005,\n",
    "    'record_current' : True\n",
    "}\n",
    "# where to insert, how many, and which input statistics\n",
    "insert_synapses_AMPA_args = {\n",
    "    'section' : 'apic',\n",
    "    'n' : 100,\n",
    "    'netstimParameters': {\n",
    "        'number' : 1000,\n",
    "        'start' : 0,\n",
    "        'noise' : 1,\n",
    "        'interval' : 20,\n",
    "    }\n",
    "}\n",
    "insert_synapses_NMDA_args = {\n",
    "    'section' : ['dend', 'apic'],\n",
    "    'n' : 15,\n",
    "    'netstimParameters': {\n",
    "        'number' : 1000,\n",
    "        'start' : 0,\n",
    "        'noise' : 1,\n",
    "        'interval' : 90,\n",
    "    }\n",
    "}\n",
    "insert_synapses_GABA_A_args = {\n",
    "    'section' : 'dend',\n",
    "    'n' : 100,\n",
    "    'netstimParameters': {\n",
    "        'number' : 1000,\n",
    "        'start' : 0,\n",
    "        'noise' : 1,\n",
    "        'interval' : 20,\n",
    "    }\n",
    "}\n",
    "\n",
    "# Define electrode geometry corresponding to a laminar electrode, where contact\n",
    "# points have a radius r, surface normal vectors N, and LFP calculated as the\n",
    "# average LFP in n random points on each contact:\n",
    "N = np.empty((16, 3))\n",
    "for i in range(N.shape[0]): N[i,] = [1, 0, 0] #normal unit vec. to contacts\n",
    "# put parameters in dictionary\n",
    "electrodeParameters = {\n",
    "    'sigma' : 0.3,              # Extracellular potential\n",
    "    'x' : np.zeros(16) + 25,      # x,y,z-coordinates of electrode contacts\n",
    "    'y' : np.zeros(16),\n",
    "    'z' : np.linspace(-500, 1000, 16),\n",
    "    'n' : 20,\n",
    "    'r' : 10,\n",
    "    'N' : N,\n",
    "}\n",
    "\n",
    "# Parameters for the cell.simulate() call, recording membrane- and syn.-currents\n",
    "simulationParameters = {\n",
    "    'rec_imem' : True,  # Record Membrane currents during simulation\n",
    "}"
   ]
  },
  {
   "cell_type": "code",
   "execution_count": 4,
   "metadata": {},
   "outputs": [
    {
     "ename": "Exception",
     "evalue": "non-existent file morphologies/L5_Mainen96_wAxon_LFPy.hoc",
     "output_type": "error",
     "traceback": [
      "\u001b[0;31m---------------------------------------------------------------------------\u001b[0m",
      "\u001b[0;31mException\u001b[0m                                 Traceback (most recent call last)",
      "\u001b[0;32m<ipython-input-4-d1c8638dfe04>\u001b[0m in \u001b[0;36m<module>\u001b[0;34m\u001b[0m\n\u001b[1;32m      1\u001b[0m \u001b[0;31m# Initialize cell instance, using the LFPy.Cell class\u001b[0m\u001b[0;34m\u001b[0m\u001b[0;34m\u001b[0m\u001b[0;34m\u001b[0m\u001b[0m\n\u001b[0;32m----> 2\u001b[0;31m \u001b[0mcell\u001b[0m \u001b[0;34m=\u001b[0m \u001b[0mLFPy\u001b[0m\u001b[0;34m.\u001b[0m\u001b[0mCell\u001b[0m\u001b[0;34m(\u001b[0m\u001b[0;34m**\u001b[0m\u001b[0mcellParameters\u001b[0m\u001b[0;34m)\u001b[0m\u001b[0;34m\u001b[0m\u001b[0;34m\u001b[0m\u001b[0m\n\u001b[0m\u001b[1;32m      3\u001b[0m \u001b[0;34m\u001b[0m\u001b[0m\n\u001b[1;32m      4\u001b[0m \u001b[0;31m# Insert synapses using the function defined earlier\u001b[0m\u001b[0;34m\u001b[0m\u001b[0;34m\u001b[0m\u001b[0;34m\u001b[0m\u001b[0m\n\u001b[1;32m      5\u001b[0m \u001b[0minsert_synapses\u001b[0m\u001b[0;34m(\u001b[0m\u001b[0msynapseParameters_AMPA\u001b[0m\u001b[0;34m,\u001b[0m \u001b[0;34m**\u001b[0m\u001b[0minsert_synapses_AMPA_args\u001b[0m\u001b[0;34m)\u001b[0m\u001b[0;34m\u001b[0m\u001b[0;34m\u001b[0m\u001b[0m\n",
      "\u001b[0;32m~/Desktop/LFPy-Frank/LFPy/cell.py\u001b[0m in \u001b[0;36m__init__\u001b[0;34m(self, morphology, v_init, Ra, cm, passive, passive_parameters, extracellular, tstart, tstop, dt, nsegs_method, lambda_f, d_lambda, max_nsegs_length, delete_sections, custom_code, custom_fun, custom_fun_args, pt3d, celsius, verbose, **kwargs)\u001b[0m\n\u001b[1;32m    203\u001b[0m                 \u001b[0mself\u001b[0m\u001b[0;34m.\u001b[0m\u001b[0m_load_geometry\u001b[0m\u001b[0;34m(\u001b[0m\u001b[0;34m)\u001b[0m\u001b[0;34m\u001b[0m\u001b[0;34m\u001b[0m\u001b[0m\n\u001b[1;32m    204\u001b[0m             \u001b[0;32melse\u001b[0m\u001b[0;34m:\u001b[0m\u001b[0;34m\u001b[0m\u001b[0;34m\u001b[0m\u001b[0m\n\u001b[0;32m--> 205\u001b[0;31m                 \u001b[0;32mraise\u001b[0m \u001b[0mException\u001b[0m\u001b[0;34m(\u001b[0m\u001b[0;34m'non-existent file %s'\u001b[0m \u001b[0;34m%\u001b[0m \u001b[0mself\u001b[0m\u001b[0;34m.\u001b[0m\u001b[0mmorphology\u001b[0m\u001b[0;34m)\u001b[0m\u001b[0;34m\u001b[0m\u001b[0;34m\u001b[0m\u001b[0m\n\u001b[0m\u001b[1;32m    206\u001b[0m         \u001b[0;32melse\u001b[0m\u001b[0;34m:\u001b[0m\u001b[0;34m\u001b[0m\u001b[0;34m\u001b[0m\u001b[0m\n\u001b[1;32m    207\u001b[0m             \u001b[0;32mtry\u001b[0m\u001b[0;34m:\u001b[0m\u001b[0;34m\u001b[0m\u001b[0;34m\u001b[0m\u001b[0m\n",
      "\u001b[0;31mException\u001b[0m: non-existent file morphologies/L5_Mainen96_wAxon_LFPy.hoc"
     ]
    }
   ],
   "source": [
    "# Initialize cell instance, using the LFPy.Cell class\n",
    "cell = LFPy.Cell(**cellParameters)\n",
    "\n",
    "# Insert synapses using the function defined earlier\n",
    "insert_synapses(synapseParameters_AMPA, **insert_synapses_AMPA_args)\n",
    "insert_synapses(synapseParameters_NMDA, **insert_synapses_NMDA_args)\n",
    "insert_synapses(synapseParameters_GABA_A, **insert_synapses_GABA_A_args)\n",
    "\n",
    "# Perform NEURON simulation, results saved as attributes in the cell instance\n",
    "cell.simulate(**simulationParameters)\n",
    "\n",
    "# Initialize electrode geometry, then calculate the LFP, using the\n",
    "# LFPy.RecExtElectrode class. Note that now cell is given as input to electrode\n",
    "# and created after the NEURON simulations are finished\n",
    "electrode = LFPy.RecExtElectrode(cell, **electrodeParameters)\n",
    "electrode.calc_lfp()"
   ]
  },
  {
   "cell_type": "code",
   "execution_count": 5,
   "metadata": {},
   "outputs": [
    {
     "ename": "ModuleNotFoundError",
     "evalue": "No module named 'example_suppl'",
     "output_type": "error",
     "traceback": [
      "\u001b[0;31m---------------------------------------------------------------------------\u001b[0m",
      "\u001b[0;31mModuleNotFoundError\u001b[0m                       Traceback (most recent call last)",
      "\u001b[0;32m<ipython-input-5-30b190b42e55>\u001b[0m in \u001b[0;36m<module>\u001b[0;34m\u001b[0m\n\u001b[1;32m      1\u001b[0m \u001b[0;31m#plotting some variables and geometry, saving output to .pdf.\u001b[0m\u001b[0;34m\u001b[0m\u001b[0;34m\u001b[0m\u001b[0;34m\u001b[0m\u001b[0m\n\u001b[0;32m----> 2\u001b[0;31m \u001b[0;32mfrom\u001b[0m \u001b[0mexample_suppl\u001b[0m \u001b[0;32mimport\u001b[0m \u001b[0mplot_ex3\u001b[0m\u001b[0;34m\u001b[0m\u001b[0;34m\u001b[0m\u001b[0m\n\u001b[0m\u001b[1;32m      3\u001b[0m \u001b[0mfig\u001b[0m \u001b[0;34m=\u001b[0m \u001b[0mplot_ex3\u001b[0m\u001b[0;34m(\u001b[0m\u001b[0mcell\u001b[0m\u001b[0;34m,\u001b[0m \u001b[0melectrode\u001b[0m\u001b[0;34m)\u001b[0m\u001b[0;34m\u001b[0m\u001b[0;34m\u001b[0m\u001b[0m\n\u001b[1;32m      4\u001b[0m \u001b[0;31m#fig.savefig('LFPy-example-9.pdf', dpi=300)\u001b[0m\u001b[0;34m\u001b[0m\u001b[0;34m\u001b[0m\u001b[0;34m\u001b[0m\u001b[0m\n",
      "\u001b[0;31mModuleNotFoundError\u001b[0m: No module named 'example_suppl'"
     ]
    }
   ],
   "source": [
    "#plotting some variables and geometry, saving output to .pdf.\n",
    "from example_suppl import plot_ex3\n",
    "fig = plot_ex3(cell, electrode)\n",
    "#fig.savefig('LFPy-example-9.pdf', dpi=300)"
   ]
  },
  {
   "cell_type": "code",
   "execution_count": null,
   "metadata": {},
   "outputs": [],
   "source": []
  }
 ],
 "metadata": {
  "kernelspec": {
   "display_name": "Python 3",
   "language": "python",
   "name": "python3"
  },
  "language_info": {
   "codemirror_mode": {
    "name": "ipython",
    "version": 3
   },
   "file_extension": ".py",
   "mimetype": "text/x-python",
   "name": "python",
   "nbconvert_exporter": "python",
   "pygments_lexer": "ipython3",
   "version": "3.7.5"
  }
 },
 "nbformat": 4,
 "nbformat_minor": 4
}
